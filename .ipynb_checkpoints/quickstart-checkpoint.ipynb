{
 "cells": [
  {
   "cell_type": "code",
   "execution_count": 5,
   "id": "d60f685f",
   "metadata": {},
   "outputs": [
    {
     "ename": "ModuleNotFoundError",
     "evalue": "No module named 'cal_setup'",
     "output_type": "error",
     "traceback": [
      "\u001b[1;31m---------------------------------------------------------------------------\u001b[0m",
      "\u001b[1;31mModuleNotFoundError\u001b[0m                       Traceback (most recent call last)",
      "\u001b[1;32m<ipython-input-5-f5aaeb3f98d2>\u001b[0m in \u001b[0;36m<module>\u001b[1;34m\u001b[0m\n\u001b[1;32m----> 1\u001b[1;33m \u001b[1;32mfrom\u001b[0m \u001b[0mcal_setup\u001b[0m \u001b[1;32mimport\u001b[0m \u001b[0mget_calendar_service\u001b[0m\u001b[1;33m\u001b[0m\u001b[1;33m\u001b[0m\u001b[0m\n\u001b[0m\u001b[0;32m      2\u001b[0m \u001b[1;33m\u001b[0m\u001b[0m\n\u001b[0;32m      3\u001b[0m \u001b[1;32mdef\u001b[0m \u001b[0mmain\u001b[0m\u001b[1;33m(\u001b[0m\u001b[1;33m)\u001b[0m\u001b[1;33m:\u001b[0m\u001b[1;33m\u001b[0m\u001b[1;33m\u001b[0m\u001b[0m\n\u001b[0;32m      4\u001b[0m    \u001b[0mservice\u001b[0m \u001b[1;33m=\u001b[0m \u001b[0mget_calendar_service\u001b[0m\u001b[1;33m(\u001b[0m\u001b[1;33m)\u001b[0m\u001b[1;33m\u001b[0m\u001b[1;33m\u001b[0m\u001b[0m\n\u001b[0;32m      5\u001b[0m    \u001b[1;31m# Call the Calendar API\u001b[0m\u001b[1;33m\u001b[0m\u001b[1;33m\u001b[0m\u001b[1;33m\u001b[0m\u001b[0m\n",
      "\u001b[1;31mModuleNotFoundError\u001b[0m: No module named 'cal_setup'"
     ]
    }
   ],
   "source": [
    "from cal_setup import get_calendar_service\n",
    "\n",
    "def main():\n",
    "   service = get_calendar_service()\n",
    "   # Call the Calendar API\n",
    "   print('Getting list of calendars')\n",
    "   calendars_result = service.calendarList().list().execute()\n",
    "\n",
    "   calendars = calendars_result.get('items', [])\n",
    "\n",
    "   if not calendars:\n",
    "       print('No calendars found.')\n",
    "   for calendar in calendars:\n",
    "       summary = calendar['summary']\n",
    "       id = calendar['id']\n",
    "       primary = \"Primary\" if calendar.get('primary') else \"\"\n",
    "       print(\"%s\\t%s\\t%s\" % (summary, id, primary))\n",
    "\n",
    "if __name__ == '__main__':\n",
    "   main()\n"
   ]
  },
  {
   "cell_type": "code",
   "execution_count": null,
   "id": "08da7c7c",
   "metadata": {},
   "outputs": [],
   "source": []
  }
 ],
 "metadata": {
  "kernelspec": {
   "display_name": "Python 3",
   "language": "python",
   "name": "python3"
  },
  "language_info": {
   "codemirror_mode": {
    "name": "ipython",
    "version": 3
   },
   "file_extension": ".py",
   "mimetype": "text/x-python",
   "name": "python",
   "nbconvert_exporter": "python",
   "pygments_lexer": "ipython3",
   "version": "3.8.8"
  }
 },
 "nbformat": 4,
 "nbformat_minor": 5
}
